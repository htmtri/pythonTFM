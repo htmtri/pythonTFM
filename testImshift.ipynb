{
 "cells": [
  {
   "cell_type": "code",
   "execution_count": 1,
   "metadata": {},
   "outputs": [],
   "source": [
    "import numpy as np\n",
    "import matplotlib.pyplot as plt\n",
    "from normxcorr2 import normxcorr2\n",
    "import bpass as bp"
   ]
  },
  {
   "cell_type": "code",
   "execution_count": 2,
   "metadata": {},
   "outputs": [],
   "source": [
    "o_im1 = plt.imread('bf.tiff')\n",
    "o_im2 = plt.imread('af.tiff')\n",
    "rect = [493, 85, 223, 142]\n",
    "im1 = bp.im2double(o_im1)\n",
    "im2 = bp.im2double(o_im2)"
   ]
  },
  {
   "cell_type": "code",
   "execution_count": 3,
   "metadata": {},
   "outputs": [],
   "source": [
    "subimg = o_im1[int(rect[1]):int(rect[1]+rect[3]), int(rect[0]):int(rect[0]+rect[2])]\n",
    "%matplotlib qt\n",
    "plt.figure(1)\n",
    "plt.imshow(subimg,cmap='gray',vmin=0,vmax=0.1*max(o_im1.flatten()))\n",
    "plt.show()"
   ]
  },
  {
   "cell_type": "code",
   "execution_count": 13,
   "metadata": {},
   "outputs": [],
   "source": [
    "cc1 = normxcorr2(subimg,o_im1,mode='full')\n",
    "cc2 = normxcorr2(subimg,o_im2,mode='full')\n",
    "idm1 = np.where(cc1 == np.amax(np.abs(cc1)))\n",
    "idm2 = np.where(cc2 == np.amax(np.abs(cc2)))\n",
    "\n",
    "    \n"
   ]
  },
  {
   "cell_type": "code",
   "execution_count": 17,
   "metadata": {},
   "outputs": [
    {
     "data": {
      "text/plain": [
       "array([34,  3], dtype=int64)"
      ]
     },
     "execution_count": 17,
     "metadata": {},
     "output_type": "execute_result"
    }
   ],
   "source": [
    "#[xpeak1,ypeak1] = np.unravel_index(idm1,np.shape(cc1),order='F')\n",
    "#[xpeak2,ypeak2] = np.unravel_index(idm2,np.shape(cc2),order='F')\n",
    "\n",
    "    \n",
    "xdrift = idm2[1]-idm1[1]\n",
    "ydrift = idm2[0]-idm1[0]\n",
    "    \n",
    "np.array([xdrift[0],ydrift[0]])"
   ]
  },
  {
   "cell_type": "code",
   "execution_count": 6,
   "metadata": {},
   "outputs": [
    {
     "name": "stdout",
     "output_type": "stream",
     "text": [
      "0.9999999999999997 0.9098501891133842\n"
     ]
    },
    {
     "data": {
      "text/plain": [
       "(array([226], dtype=int64), array([715], dtype=int64))"
      ]
     },
     "execution_count": 6,
     "metadata": {},
     "output_type": "execute_result"
    }
   ],
   "source": []
  },
  {
   "cell_type": "code",
   "execution_count": 7,
   "metadata": {},
   "outputs": [
    {
     "data": {
      "text/plain": [
       "(array([229], dtype=int64), array([749], dtype=int64))"
      ]
     },
     "execution_count": 7,
     "metadata": {},
     "output_type": "execute_result"
    }
   ],
   "source": []
  },
  {
   "cell_type": "code",
   "execution_count": 9,
   "metadata": {},
   "outputs": [
    {
     "data": {
      "text/plain": [
       "<matplotlib.image.AxesImage at 0x6a28358>"
      ]
     },
     "execution_count": 9,
     "metadata": {},
     "output_type": "execute_result"
    }
   ],
   "source": []
  },
  {
   "cell_type": "code",
   "execution_count": 41,
   "metadata": {},
   "outputs": [
    {
     "data": {
      "text/plain": [
       "array([9.09850189e-01, 8.89398724e-01, 8.80398114e-01, ...,\n",
       "       3.17143456e-08, 3.16612662e-08, 7.73414918e-09])"
      ]
     },
     "execution_count": 41,
     "metadata": {},
     "output_type": "execute_result"
    }
   ],
   "source": []
  },
  {
   "cell_type": "code",
   "execution_count": 42,
   "metadata": {},
   "outputs": [
    {
     "data": {
      "text/plain": [
       "0.909850189113384"
      ]
     },
     "execution_count": 42,
     "metadata": {},
     "output_type": "execute_result"
    }
   ],
   "source": []
  },
  {
   "cell_type": "code",
   "execution_count": null,
   "metadata": {},
   "outputs": [],
   "source": []
  }
 ],
 "metadata": {
  "kernelspec": {
   "display_name": "Python 3",
   "language": "python",
   "name": "python3"
  },
  "language_info": {
   "codemirror_mode": {
    "name": "ipython",
    "version": 3
   },
   "file_extension": ".py",
   "mimetype": "text/x-python",
   "name": "python",
   "nbconvert_exporter": "python",
   "pygments_lexer": "ipython3",
   "version": "3.7.4"
  }
 },
 "nbformat": 4,
 "nbformat_minor": 2
}
