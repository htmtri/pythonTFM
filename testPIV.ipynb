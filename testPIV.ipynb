{
 "cells": [
  {
   "cell_type": "code",
   "execution_count": 1,
   "metadata": {},
   "outputs": [],
   "source": [
    "import numpy as np\n",
    "import inspect\n",
    "import matplotlib.pyplot as plt\n",
    "from tkinter import filedialog\n",
    "from tkinter import *\n",
    "from roipoly import RoiPoly\n",
    "\n",
    "import openpiv.tools as tools\n",
    "import openpiv.pyprocess\n",
    "import openpiv.scaling\n",
    "import openpiv.validation\n",
    "import openpiv.filters #NaN filters"
   ]
  },
  {
   "cell_type": "code",
   "execution_count": 2,
   "metadata": {},
   "outputs": [
    {
     "name": "stderr",
     "output_type": "stream",
     "text": [
      "/home/unstable/miniconda3/envs/pyTFM/lib/python3.9/site-packages/ipykernel/ipkernel.py:287: DeprecationWarning: `should_run_async` will not call `transform_cell` automatically in the future. Please pass the result to `transformed_cell` argument and any exception that happen during thetransform in `preprocessing_exc_tuple` in IPython 7.17 and above.\n",
      "  and should_run_async(code)\n"
     ]
    }
   ],
   "source": [
    "%matplotlib qt\n",
    "%run -i testing"
   ]
  },
  {
   "cell_type": "code",
   "execution_count": 3,
   "metadata": {},
   "outputs": [
    {
     "name": "stderr",
     "output_type": "stream",
     "text": [
      "/home/unstable/miniconda3/envs/pyTFM/lib/python3.9/site-packages/ipykernel/ipkernel.py:287: DeprecationWarning: `should_run_async` will not call `transform_cell` automatically in the future. Please pass the result to `transformed_cell` argument and any exception that happen during thetransform in `preprocessing_exc_tuple` in IPython 7.17 and above.\n",
      "  and should_run_async(code)\n"
     ]
    },
    {
     "data": {
      "text/plain": [
       "''"
      ]
     },
     "execution_count": 3,
     "metadata": {},
     "output_type": "execute_result"
    }
   ],
   "source": [
    "def im2double(im):\n",
    "    info = np.iinfo(im.dtype) # Get the data type of the input image\n",
    "    return im.astype(np.float) / info.max # Divide all values by the largest possible value in the datatype\n",
    "\n",
    "root = Tk()\n",
    "\n",
    "\n",
    "#root.directory = filedialog.askdirectory()\n",
    "\n",
    "root.pc_name = filedialog.askopenfilename(initialdir = '.',\n",
    "                                          title = \"Select phase contrast img\",\n",
    "                                          filetypes = ((\"tiff files\",\"*.tiff\"),\n",
    "                                          (\"all files\",\"*.*\")))\n",
    "\n",
    "root.load_name = filedialog.askopenfilename(initialdir = '.',\n",
    "                                     title = \"Select loadimg\",\n",
    "                                     filetypes = ((\"tiff files\",\"*.tif\"),\n",
    "                                                  (\"all files\",\"*.*\")))\n",
    "root.nulf_name = filedialog.askopenfilename(initialdir = '.',\n",
    "                                     title = \"Select nulfimg\",\n",
    "                                     filetypes = ((\"tiff files\",\"*.tif\"),(\"all files\",\"*.*\")))\n",
    "\n",
    "\n",
    "frame_c = tools.imread(root.pc_name)\n",
    "frame_a = tools.imread(root.nulf_name)\n",
    "frame_b = tools.imread(root.load_name)\n",
    "\n",
    "root.withdraw()"
   ]
  },
  {
   "cell_type": "code",
   "execution_count": 4,
   "metadata": {},
   "outputs": [
    {
     "name": "stderr",
     "output_type": "stream",
     "text": [
      "/home/unstable/miniconda3/envs/pyTFM/lib/python3.9/site-packages/ipykernel/ipkernel.py:287: DeprecationWarning: `should_run_async` will not call `transform_cell` automatically in the future. Please pass the result to `transformed_cell` argument and any exception that happen during thetransform in `preprocessing_exc_tuple` in IPython 7.17 and above.\n",
      "  and should_run_async(code)\n",
      "<ipython-input-4-2a21a6aebdf6>:3: MatplotlibDeprecationWarning: Case-insensitive properties were deprecated in 3.3 and support will be removed two minor releases later\n",
      "  plt.imshow(frame_c.astype(np.int32),CMAP='gray',vmin=0,vmax=0.5*frame_c.astype(np.int32).max(),origin='lower')\n"
     ]
    }
   ],
   "source": [
    "%matplotlib qt\n",
    "fig = plt.figure()\n",
    "plt.imshow(frame_c.astype(np.int32),CMAP='gray',vmin=0,vmax=0.5*frame_c.astype(np.int32).max(),origin='lower')\n",
    "plt.title(\"left click: line segment; right click or double click: close region\")\n",
    "plt.show(block=False)\n",
    "\n",
    "cell_roi = RoiPoly(color='r',fig=fig,show_fig=False)"
   ]
  },
  {
   "cell_type": "code",
   "execution_count": 7,
   "metadata": {},
   "outputs": [
    {
     "name": "stderr",
     "output_type": "stream",
     "text": [
      "/home/unstable/miniconda3/envs/pyTFM/lib/python3.9/site-packages/ipykernel/ipkernel.py:287: DeprecationWarning: `should_run_async` will not call `transform_cell` automatically in the future. Please pass the result to `transformed_cell` argument and any exception that happen during thetransform in `preprocessing_exc_tuple` in IPython 7.17 and above.\n",
      "  and should_run_async(code)\n",
      "<ipython-input-7-d022dfc0da2c>:3: MatplotlibDeprecationWarning: Case-insensitive properties were deprecated in 3.3 and support will be removed two minor releases later\n",
      "  plt.imshow(frame_c.astype(np.int32),CMAP='gray',vmin=0,vmax=0.5*frame_c.astype(np.int32).max(),origin='lower')\n"
     ]
    }
   ],
   "source": [
    "%matplotlib qt\n",
    "fig = plt.figure()\n",
    "plt.imshow(frame_c.astype(np.int32),CMAP='gray',vmin=0,vmax=0.5*frame_c.astype(np.int32).max(),origin='lower')\n",
    "cell_roi.display_roi()\n",
    "plt.title('With celltrace')\n",
    "plt.show(block=False)\n",
    "\n",
    "#plt.figure()\n",
    "#plt.plot(cell_roi.x,cell_roi.y,color='r',linewidth=2.5)\n",
    "#plt.plot(cell_roi.x + [cell_roi.x[0]],cell_roi.y + [cell_roi.y[0]],color='b')\n",
    "#plt.show(block=False)\n",
    "#cell_roi does not close boundary itself\n",
    "cellx = np.array(cell_roi.x + [cell_roi.x[0]])\n",
    "celly = np.array(cell_roi.y + [cell_roi.y[0]])\n"
   ]
  },
  {
   "cell_type": "code",
   "execution_count": 5,
   "metadata": {},
   "outputs": [
    {
     "name": "stderr",
     "output_type": "stream",
     "text": [
      "/home/unstable/miniconda3/envs/pyTFM/lib/python3.9/site-packages/ipykernel/ipkernel.py:287: DeprecationWarning: `should_run_async` will not call `transform_cell` automatically in the future. Please pass the result to `transformed_cell` argument and any exception that happen during thetransform in `preprocessing_exc_tuple` in IPython 7.17 and above.\n",
      "  and should_run_async(code)\n"
     ]
    },
    {
     "data": {
      "text/plain": [
       "<matplotlib.image.AxesImage at 0x7f0e4477ce80>"
      ]
     },
     "execution_count": 5,
     "metadata": {},
     "output_type": "execute_result"
    }
   ],
   "source": [
    "cimg = np.zeros([frame_a.shape[0],frame_a.shape[1],3],dtype=np.uint8)\n",
    "cimg[:,:,0] = frame_a\n",
    "cimg[:,:,1] = frame_b\n",
    "plt.figure()\n",
    "plt.imshow(cimg,vmin=0,vmax=0.01*cimg[:,:,0].max(),origin='lower')"
   ]
  },
  {
   "cell_type": "code",
   "execution_count": 6,
   "metadata": {},
   "outputs": [
    {
     "name": "stderr",
     "output_type": "stream",
     "text": [
      "/home/unstable/miniconda3/envs/pyTFM/lib/python3.9/site-packages/ipykernel/ipkernel.py:287: DeprecationWarning: `should_run_async` will not call `transform_cell` automatically in the future. Please pass the result to `transformed_cell` argument and any exception that happen during thetransform in `preprocessing_exc_tuple` in IPython 7.17 and above.\n",
      "  and should_run_async(code)\n"
     ]
    }
   ],
   "source": [
    "u, v , sig2noise= openpiv.pyprocess.extended_search_area_piv( frame_a.astype(np.int32), frame_b.astype(np.int32), window_size=32, overlap=16, dt=1, search_area_size=48, sig2noise_method='peak2peak' )\n",
    "\n",
    "xgrid, ygrid = openpiv.pyprocess.get_coordinates( image_size=frame_a.shape, search_area_size=48, overlap=16 )\n",
    "#xgrid, ygrid = openpiv.pyprocess.get_coordinates( image_size=frame_a.shape, window_size=32, overlap=16 )\n",
    "#openpiv changed their method with the default extend_search_area == window_size, hence the parameter in get_coordinates has changed to\n",
    "# extended search area. Please check the parameters in extended_search_area_piv\n",
    "\n",
    "u, v, mask = openpiv.validation.sig2noise_val( u, v, sig2noise, threshold = 2.8 )\n",
    "u, v = openpiv.filters.replace_outliers( u, v, method='localmean', max_iter=10, tol=1e-4, kernel_size=2 )\n",
    "#x, y, u, v = openpiv.scaling.uniform(x, y, u, v, scaling_factor = 96.52 )"
   ]
  },
  {
   "cell_type": "code",
   "execution_count": 18,
   "metadata": {},
   "outputs": [
    {
     "name": "stderr",
     "output_type": "stream",
     "text": [
      "/home/unstable/miniconda3/envs/pyTFM/lib/python3.9/site-packages/ipykernel/ipkernel.py:287: DeprecationWarning: `should_run_async` will not call `transform_cell` automatically in the future. Please pass the result to `transformed_cell` argument and any exception that happen during thetransform in `preprocessing_exc_tuple` in IPython 7.17 and above.\n",
      "  and should_run_async(code)\n"
     ]
    },
    {
     "data": {
      "text/plain": [
       "array([[       nan,        nan,        nan,        nan,        nan,\n",
       "               nan,        nan,        nan,        nan,        nan,\n",
       "               nan,        nan,        nan,        nan,        nan,\n",
       "               nan,        nan,        nan,        nan,        nan,\n",
       "               nan,        nan,        nan,        nan,        nan,\n",
       "               nan,        nan,        nan,        nan],\n",
       "       [       nan,        nan,        nan,        nan,        nan,\n",
       "               nan,        nan,        nan,        nan,        nan,\n",
       "               nan,        nan,        nan,        nan,        nan,\n",
       "               nan,        nan,        nan,        nan,        nan,\n",
       "               nan,        nan,        nan,        nan,        nan,\n",
       "               nan,        nan,        nan,        nan],\n",
       "       [       nan,        nan,        nan,        nan,        nan,\n",
       "               nan,        nan,        nan,        nan,        nan,\n",
       "               nan,        nan,        nan,        nan,        nan,\n",
       "               nan,        nan,        nan,        nan,        nan,\n",
       "               nan,        nan,        nan,        nan,        nan,\n",
       "               nan,        nan,        nan,        nan],\n",
       "       [       nan,        nan,        nan,        nan, 1.12204948,\n",
       "        1.12204948, 1.12204948, 1.12204948, 1.12204948, 1.12204948,\n",
       "        1.12204948, 1.12204948, 1.12204948, 1.12204948, 1.12204948,\n",
       "        1.12204948, 1.12204948, 1.12204948, 1.12204948, 1.12204948,\n",
       "        1.12204948, 1.12204948, 1.12204948, 1.12204948, 1.12204948,\n",
       "        1.12204948, 1.12204948, 1.12204948, 1.12204948],\n",
       "       [       nan,        nan,        nan,        nan, 1.12204948,\n",
       "        1.12204948, 1.12204948, 1.12204948, 1.12204948, 1.12204948,\n",
       "        1.12204948, 1.12204948, 1.12204948, 1.12204948, 1.12204948,\n",
       "        1.12204948, 1.12204948, 1.12204948, 1.12204948, 1.12204948,\n",
       "        1.12204948, 1.12204948, 1.12204948, 1.12204948, 1.12204948,\n",
       "        1.12204948, 1.12204948, 1.12204948, 1.12204948],\n",
       "       [       nan,        nan,        nan,        nan, 1.12204948,\n",
       "        1.12204948, 1.12204948, 1.12204948, 1.12204948, 1.12204948,\n",
       "        1.12204948, 1.12204948, 1.12204948, 1.12204948, 1.12204948,\n",
       "        1.12204948, 1.12204948, 1.12204948, 1.12204948, 1.12204948,\n",
       "        1.12204948, 1.12204948, 1.12204948, 1.12204948, 1.12204948,\n",
       "        1.12204948, 1.12204948, 1.12204948, 1.12204948],\n",
       "       [       nan,        nan,        nan,        nan, 1.12204948,\n",
       "        1.12204948, 1.12204948, 1.12204948, 1.12204948, 1.12204948,\n",
       "        1.12204948, 1.12204948, 1.12204948, 1.12204948, 1.12204948,\n",
       "        1.12204948, 1.12204948, 1.12204948, 1.12204948, 1.12204948,\n",
       "        1.12204948, 1.12204948, 1.12204948, 1.12204948, 1.12204948,\n",
       "        1.12204948, 1.12204948, 1.12204948, 1.12204948],\n",
       "       [       nan,        nan,        nan,        nan, 1.12204948,\n",
       "        1.12204948, 1.12204948, 1.12204948, 1.12204948, 1.12204948,\n",
       "        1.12204948, 1.12204948, 1.12204948, 1.12204948, 1.12204948,\n",
       "        1.12204948, 1.12204948, 1.12204948, 1.12204948, 1.12204948,\n",
       "        1.12204948, 1.12204948, 1.12204948, 1.12204948, 1.12204948,\n",
       "        1.12204948, 1.12204948, 1.12204948, 1.12204948],\n",
       "       [       nan,        nan,        nan,        nan, 1.12204948,\n",
       "        1.12204948, 1.12204948, 1.12204948, 1.12204948, 1.12204948,\n",
       "        1.12204948, 1.12204948, 1.12204948, 1.12204948, 1.12204948,\n",
       "        1.12204948, 1.12204948, 1.12204948, 1.12204948, 1.12204948,\n",
       "        1.12204948, 1.12204948, 1.12204948, 1.12204948, 1.12204948,\n",
       "        1.12204948, 1.12204948, 1.12204948, 1.12204948],\n",
       "       [       nan,        nan,        nan,        nan, 1.12204948,\n",
       "        1.12204948, 1.12204948, 1.12204948, 1.12204948, 1.12204948,\n",
       "        1.12204948, 1.12204948, 1.12204948, 1.12204948, 1.12204948,\n",
       "        1.12204948, 1.12204948, 1.12204948, 1.12204948, 1.12204948,\n",
       "        1.12204948, 1.12204948, 1.12204948, 1.12204948, 1.12204948,\n",
       "        1.12204948, 1.12204948, 1.12204948, 1.12204948],\n",
       "       [       nan,        nan,        nan,        nan, 1.12204948,\n",
       "        1.12204948, 1.12204948, 1.12204948, 1.12204948, 1.12204948,\n",
       "        1.12204948, 1.12204948, 1.12204948, 1.12204948, 1.12204948,\n",
       "        1.12204948, 1.12204948, 1.12204948, 1.12204948, 1.12204948,\n",
       "        1.12204948, 1.12204948, 1.12204948, 1.12204948, 1.12204948,\n",
       "        1.12204948, 1.12204948, 1.12204948, 1.12204948],\n",
       "       [       nan,        nan,        nan,        nan, 1.12204948,\n",
       "        1.12204948, 1.12204948, 1.12204948, 1.12204948, 1.12204948,\n",
       "        1.12204948, 1.12204948, 1.12204948, 1.12204948, 1.12204948,\n",
       "        1.12204948, 1.12204948, 1.12204948, 1.12204948, 1.12204948,\n",
       "        1.12204948, 1.12204948, 1.12204948, 1.12204948, 1.12204948,\n",
       "        1.12204948, 1.12204948, 1.12204948, 1.12204948],\n",
       "       [       nan,        nan,        nan,        nan, 1.12204948,\n",
       "        1.12204948, 1.12204948, 1.12204948, 1.12204948, 1.12204948,\n",
       "        1.12204948, 1.12204948, 1.12204948, 1.12204948, 1.12204948,\n",
       "        1.12204948, 1.12204948, 1.12204948, 1.12204948, 1.12204948,\n",
       "        1.12204948, 1.12204948, 1.12204948, 1.12204948, 1.12204948,\n",
       "        1.12204948, 1.12204948, 1.12204948, 1.12204948],\n",
       "       [       nan,        nan,        nan,        nan, 1.12204948,\n",
       "        1.12204948, 1.12204948, 1.12204948, 1.12204948, 1.12204948,\n",
       "        1.12204948, 1.12204948, 1.12204948, 1.12204948, 1.12204948,\n",
       "        1.12204948, 1.12204948, 1.12204948, 1.12204948, 1.12204948,\n",
       "        1.12204948, 1.12204948, 1.12204948, 1.12204948, 1.12204948,\n",
       "        1.12204948, 1.12204948, 1.12204948, 1.12204948],\n",
       "       [       nan,        nan,        nan,        nan, 1.12204948,\n",
       "        1.12204948, 1.12204948, 1.12204948, 1.12204948, 1.12204948,\n",
       "        1.12204948, 1.12204948, 1.12204948, 1.12204948, 1.12204948,\n",
       "        1.12204948, 1.12204948, 1.12204948, 1.12204948, 1.12204948,\n",
       "        1.12204948, 1.12204948, 1.12204948, 1.12204948, 1.12204948,\n",
       "        1.12204948, 1.12204948, 1.12204948, 1.12204948],\n",
       "       [       nan,        nan,        nan,        nan, 1.12204948,\n",
       "        1.12204948, 1.12204948, 1.12204948, 1.12204948, 1.12204948,\n",
       "        1.12204948, 1.12204948, 1.12204948, 1.12204948, 1.12204948,\n",
       "        1.12204948, 1.12204948, 1.12204948, 1.12204948, 1.12204948,\n",
       "        1.12204948, 1.12204948, 1.12204948, 1.12204948, 1.12204948,\n",
       "        1.12204948, 1.12204948, 1.12204948, 1.12204948],\n",
       "       [       nan,        nan,        nan,        nan, 1.12204948,\n",
       "        1.12204948, 1.12204948, 1.12204948, 1.12204948, 1.12204948,\n",
       "        1.12204948, 1.12204948, 1.12204948, 1.12204948, 1.12204948,\n",
       "        1.12204948, 1.12204948, 1.12204948, 1.12204948, 1.12204948,\n",
       "        1.12204948, 1.12204948, 1.12204948, 1.12204948, 1.12204948,\n",
       "        1.12204948, 1.12204948, 1.12204948, 1.12204948],\n",
       "       [       nan,        nan,        nan,        nan, 1.12204948,\n",
       "        1.12204948, 1.12204948, 1.12204948, 1.12204948, 1.12204948,\n",
       "        1.12204948, 1.12204948, 1.12204948, 1.12204948, 1.12204948,\n",
       "        1.12204948, 1.12204948, 1.12204948, 1.12204948, 1.12204948,\n",
       "        1.12204948, 1.12204948, 1.12204948, 1.12204948, 1.12204948,\n",
       "        1.12204948, 1.12204948, 1.12204948, 1.12204948],\n",
       "       [       nan,        nan,        nan,        nan, 1.12204948,\n",
       "        1.12204948, 1.12204948, 1.12204948, 1.12204948, 1.12204948,\n",
       "        1.12204948, 1.12204948, 1.12204948, 1.12204948, 1.12204948,\n",
       "        1.12204948, 1.12204948, 1.12204948, 1.12204948, 1.12204948,\n",
       "        1.12204948, 1.12204948, 1.12204948, 1.12204948, 1.12204948,\n",
       "        1.12204948, 1.12204948, 1.12204948, 1.12204948],\n",
       "       [       nan,        nan,        nan,        nan, 1.12204948,\n",
       "        1.12204948, 1.12204948, 1.12204948, 1.12204948, 1.12204948,\n",
       "        1.12204948, 1.12204948, 1.12204948, 1.12204948, 1.12204948,\n",
       "        1.12204948, 1.12204948, 1.12204948, 1.12204948, 1.12204948,\n",
       "        1.12204948, 1.12204948, 1.12204948, 1.12204948, 1.12204948,\n",
       "        1.12204948, 1.12204948, 1.12204948, 1.12204948],\n",
       "       [       nan,        nan,        nan,        nan, 1.12204948,\n",
       "        1.12204948, 1.12204948, 1.12204948, 1.12204948, 1.12204948,\n",
       "        1.12204948, 1.12204948, 1.12204948, 1.12204948, 1.12204948,\n",
       "        1.12204948, 1.12204948, 1.12204948, 1.12204948, 1.12204948,\n",
       "        1.12204948, 1.12204948, 1.12204948, 1.12204948, 1.12204948,\n",
       "        1.12204948, 1.12204948, 1.12204948, 1.12204948],\n",
       "       [       nan,        nan,        nan,        nan, 1.12204948,\n",
       "        1.12204948, 1.12204948, 1.12204948, 1.12204948, 1.12204948,\n",
       "        1.12204948, 1.12204948, 1.12204948, 1.12204948, 1.12204948,\n",
       "        1.12204948, 1.12204948, 1.12204948, 1.12204948, 1.12204948,\n",
       "        1.12204948, 1.12204948, 1.12204948, 1.12204948, 1.12204948,\n",
       "        1.12204948, 1.12204948, 1.12204948, 1.12204948],\n",
       "       [       nan,        nan,        nan,        nan, 1.12204948,\n",
       "        1.12204948, 1.12204948, 1.12204948, 1.12204948, 1.12204948,\n",
       "        1.12204948, 1.12204948, 1.12204948, 1.12204948, 1.12204948,\n",
       "        1.12204948, 1.12204948, 1.12204948, 1.12204948, 1.12204948,\n",
       "        1.12204948, 1.12204948, 1.12204948, 1.12204948, 1.12204948,\n",
       "        1.12204948, 1.12204948, 1.12204948, 1.12204948],\n",
       "       [       nan,        nan,        nan,        nan, 1.12204948,\n",
       "        1.12204948, 1.12204948, 1.12204948, 1.12204948, 1.12204948,\n",
       "        1.12204948, 1.12204948, 1.12204948, 1.12204948, 1.12204948,\n",
       "        1.12204948, 1.12204948, 1.12204948, 1.12204948, 1.12204948,\n",
       "        1.12204948, 1.12204948, 1.12204948, 1.12204948, 1.12204948,\n",
       "        1.12204948, 1.12204948, 1.12204948, 1.12204948]])"
      ]
     },
     "execution_count": 18,
     "metadata": {},
     "output_type": "execute_result"
    }
   ],
   "source": [
    "plt.figure()\n",
    "#plt.imshow(frame_a.astype(np.int32),cmap='gray',vmin=0,vmax=0.1*frame_a.astype(np.int32).max())\n",
    "plt.quiver(xgrid,ygrid,u,v,color='c')\n",
    "#plt.plot(celly,cellx,color='r')\n",
    "plt.show()\n",
    "u"
   ]
  },
  {
   "cell_type": "code",
   "execution_count": 24,
   "metadata": {},
   "outputs": [
    {
     "name": "stderr",
     "output_type": "stream",
     "text": [
      "/home/unstable/miniconda3/envs/pyTFM/lib/python3.9/site-packages/ipykernel/ipkernel.py:287: DeprecationWarning: `should_run_async` will not call `transform_cell` automatically in the future. Please pass the result to `transformed_cell` argument and any exception that happen during thetransform in `preprocessing_exc_tuple` in IPython 7.17 and above.\n",
      "  and should_run_async(code)\n"
     ]
    }
   ],
   "source": [
    "#cellTrace = np.c_[cellx,celly]\n",
    "#np.array_equal(cellTrace[:,0],cellx)\n",
    "np.savez('testcell',xgrid=xgrid,ygrid=ygrid,xdisp=u,ydisp=v,cellTrace=np.c_[cellx,celly])"
   ]
  },
  {
   "cell_type": "code",
   "execution_count": 25,
   "metadata": {},
   "outputs": [
    {
     "name": "stderr",
     "output_type": "stream",
     "text": [
      "/home/unstable/miniconda3/envs/pyTFM/lib/python3.9/site-packages/ipykernel/ipkernel.py:287: DeprecationWarning: `should_run_async` will not call `transform_cell` automatically in the future. Please pass the result to `transformed_cell` argument and any exception that happen during thetransform in `preprocessing_exc_tuple` in IPython 7.17 and above.\n",
      "  and should_run_async(code)\n"
     ]
    }
   ],
   "source": [
    "#load npz format:\n",
    "npzfile = np.load('testcell.npz')\n",
    "# print all npzfile field: npzfile.files\n",
    "# access a field in npzfile:\n",
    "# npzfile['cellTrace']"
   ]
  },
  {
   "cell_type": "code",
   "execution_count": 77,
   "metadata": {},
   "outputs": [
    {
     "name": "stdout",
     "output_type": "stream",
     "text": [
      "(801, 969) (801, 969) (1040, 1392)\n"
     ]
    },
    {
     "ename": "NameError",
     "evalue": "name 'uint16' is not defined",
     "output_type": "error",
     "traceback": [
      "\u001b[0;31m---------------------------------------------------------------------------\u001b[0m",
      "\u001b[0;31mNameError\u001b[0m                                 Traceback (most recent call last)",
      "\u001b[0;32m<ipython-input-77-25869941d5da>\u001b[0m in \u001b[0;36m<module>\u001b[0;34m\u001b[0m\n\u001b[1;32m      1\u001b[0m \u001b[0mprint\u001b[0m\u001b[0;34m(\u001b[0m\u001b[0mframe_a\u001b[0m\u001b[0;34m.\u001b[0m\u001b[0mshape\u001b[0m\u001b[0;34m,\u001b[0m\u001b[0mframe_b\u001b[0m\u001b[0;34m.\u001b[0m\u001b[0mshape\u001b[0m\u001b[0;34m,\u001b[0m\u001b[0mframe_c\u001b[0m\u001b[0;34m.\u001b[0m\u001b[0mshape\u001b[0m\u001b[0;34m)\u001b[0m\u001b[0;34m\u001b[0m\u001b[0;34m\u001b[0m\u001b[0m\n\u001b[0;32m----> 2\u001b[0;31m \u001b[0muint16\u001b[0m\u001b[0;34m.\u001b[0m\u001b[0mmax\u001b[0m\u001b[0;34m(\u001b[0m\u001b[0;34m)\u001b[0m\u001b[0;34m\u001b[0m\u001b[0;34m\u001b[0m\u001b[0m\n\u001b[0m",
      "\u001b[0;31mNameError\u001b[0m: name 'uint16' is not defined"
     ]
    }
   ],
   "source": [
    "print(frame_a.shape,frame_b.shape,frame_c.shape)"
   ]
  },
  {
   "cell_type": "code",
   "execution_count": 2,
   "metadata": {},
   "outputs": [
    {
     "name": "stdout",
     "output_type": "stream",
     "text": [
      "P:\\#Code\\pyadaptation\\testopenPIV\n",
      "D:\\ProgramData\\Miniconda3\\python37.zip\n",
      "D:\\ProgramData\\Miniconda3\\DLLs\n",
      "D:\\ProgramData\\Miniconda3\\lib\n",
      "D:\\ProgramData\\Miniconda3\n",
      "\n",
      "D:\\ProgramData\\Miniconda3\\lib\\site-packages\n",
      "D:\\ProgramData\\Miniconda3\\lib\\site-packages\\win32\n",
      "D:\\ProgramData\\Miniconda3\\lib\\site-packages\\win32\\lib\n",
      "D:\\ProgramData\\Miniconda3\\lib\\site-packages\\Pythonwin\n",
      "D:\\ProgramData\\Miniconda3\\lib\\site-packages\\IPython\\extensions\n",
      "C:\\Users\\surface\\.ipython\n"
     ]
    }
   ],
   "source": [
    "import sys\n",
    "for p in sys.path:\n",
    "    print(p)"
   ]
  },
  {
   "cell_type": "code",
   "execution_count": 9,
   "metadata": {},
   "outputs": [
    {
     "ename": "error",
     "evalue": "OpenCV(3.4.2) C:\\Miniconda3\\conda-bld\\opencv-suite_1534379934306\\work\\modules\\highgui\\src\\window.cpp:356: error: (-215:Assertion failed) size.width>0 && size.height>0 in function 'cv::imshow'\n",
     "output_type": "error",
     "traceback": [
      "\u001b[1;31m---------------------------------------------------------------------------\u001b[0m",
      "\u001b[1;31merror\u001b[0m                                     Traceback (most recent call last)",
      "\u001b[1;32m<ipython-input-9-fe2173c47dc7>\u001b[0m in \u001b[0;36m<module>\u001b[1;34m\u001b[0m\n\u001b[0;32m      1\u001b[0m \u001b[1;32mimport\u001b[0m \u001b[0mcv2\u001b[0m\u001b[1;33m\u001b[0m\u001b[1;33m\u001b[0m\u001b[0m\n\u001b[0;32m      2\u001b[0m \u001b[0mim\u001b[0m \u001b[1;33m=\u001b[0m \u001b[0mcv2\u001b[0m\u001b[1;33m.\u001b[0m\u001b[0mimread\u001b[0m\u001b[1;33m(\u001b[0m\u001b[1;34m\"image.jpg\"\u001b[0m\u001b[1;33m)\u001b[0m\u001b[1;33m\u001b[0m\u001b[1;33m\u001b[0m\u001b[0m\n\u001b[1;32m----> 3\u001b[1;33m \u001b[0mcv2\u001b[0m\u001b[1;33m.\u001b[0m\u001b[0mimshow\u001b[0m\u001b[1;33m(\u001b[0m\u001b[1;34m\"Image\"\u001b[0m\u001b[1;33m,\u001b[0m\u001b[0mim\u001b[0m\u001b[1;33m)\u001b[0m\u001b[1;33m\u001b[0m\u001b[1;33m\u001b[0m\u001b[0m\n\u001b[0m",
      "\u001b[1;31merror\u001b[0m: OpenCV(3.4.2) C:\\Miniconda3\\conda-bld\\opencv-suite_1534379934306\\work\\modules\\highgui\\src\\window.cpp:356: error: (-215:Assertion failed) size.width>0 && size.height>0 in function 'cv::imshow'\n"
     ]
    }
   ],
   "source": [
    "import cv2\n",
    "im = cv2.imread(\"a\")\n",
    "cv2.imshow(\"Image\",im)"
   ]
  },
  {
   "cell_type": "code",
   "execution_count": null,
   "metadata": {},
   "outputs": [],
   "source": []
  }
 ],
 "metadata": {
  "kernelspec": {
   "display_name": "Python 3",
   "language": "python",
   "name": "python3"
  },
  "language_info": {
   "codemirror_mode": {
    "name": "ipython",
    "version": 3
   },
   "file_extension": ".py",
   "mimetype": "text/x-python",
   "name": "python",
   "nbconvert_exporter": "python",
   "pygments_lexer": "ipython3",
   "version": "3.9.5"
  }
 },
 "nbformat": 4,
 "nbformat_minor": 2
}
