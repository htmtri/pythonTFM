{
 "cells": [
  {
   "cell_type": "code",
   "execution_count": 1,
   "metadata": {},
   "outputs": [],
   "source": [
    "import numpy as np\n",
    "import matplotlib.pyplot as plt\n",
    "\n",
    "from scipy import signal\n",
    "from scipy.stats import mode\n",
    "\n",
    "def normalize(x):\n",
    "    return x/np.sum(x)"
   ]
  },
  {
   "cell_type": "code",
   "execution_count": 3,
   "metadata": {},
   "outputs": [],
   "source": [
    "im_array = plt.imread('bf.tiff')\n",
    "lnoise=1\n",
    "lobject=10\n",
    "threshold=0.05*mode(im_array.flatten())[0]"
   ]
  },
  {
   "cell_type": "code",
   "execution_count": 28,
   "metadata": {},
   "outputs": [],
   "source": [
    "if lnoise == 0 :\n",
    "    gaussian_kernel = np.array([[1],[0]])\n",
    "else:\n",
    "    gk = normalize(np.exp(-((np.arange(-np.ceil(5*lnoise),np.ceil(5*lnoise)+1))/(2*lnoise))**2))\n",
    "    gaussian_kernel = np.vstack((gk,np.zeros(np.size(gk))))\n",
    "    \n",
    "if lobject:\n",
    "    bk = normalize(np.ones((1,np.size(np.arange(-np.ma.round(lobject),np.ma.round(lobject)+1)))))\n",
    "    boxcar_kernel = np.vstack((bk,np.zeros(np.size(bk))))\n",
    "    \n",
    "gconv = signal.convolve2d(np.transpose(im_array),np.transpose(gaussian_kernel),mode='same')\n",
    "gconv = signal.convolve2d(np.transpose(gconv),np.transpose(gaussian_kernel),mode='same')\n",
    "    \n",
    "if lobject:\n",
    "    bconv = signal.convolve2d(np.transpose(im_array),np.transpose(boxcar_kernel),mode='same')\n",
    "    bconv = signal.convolve2d(np.transpose(bconv),np.transpose(boxcar_kernel),mode='same')\n",
    "    filtered = gconv - bconv\n",
    "else:\n",
    "    filtered = gconv\n",
    "    \n",
    "lzero = np.amax((lobject,np.ceil(5*lnoise)))\n",
    "\n",
    "filtered[0:int(np.round(lzero)),:] = 0\n",
    "filtered[(-1 - int(np.round(lzero)) + 1):,:] = 0\n",
    "filtered[:,0:int(np.round(lzero))] = 0\n",
    "filtered[:,(-1 - int(np.round(lzero)) + 1):] = 0\n",
    "filtered[filtered < threshold] = 0"
   ]
  },
  {
   "cell_type": "code",
   "execution_count": 29,
   "metadata": {},
   "outputs": [
    {
     "data": {
      "text/plain": [
       "<matplotlib.image.AxesImage at 0x2e1286ea588>"
      ]
     },
     "execution_count": 29,
     "metadata": {},
     "output_type": "execute_result"
    }
   ],
   "source": [
    "%matplotlib qt\n",
    "plt.imshow(filtered,cmap='gray',vmin=0,vmax=0.1*filtered.max())"
   ]
  },
  {
   "cell_type": "code",
   "execution_count": 26,
   "metadata": {},
   "outputs": [
    {
     "data": {
      "text/plain": [
       "10.0"
      ]
     },
     "execution_count": 26,
     "metadata": {},
     "output_type": "execute_result"
    }
   ],
   "source": []
  },
  {
   "cell_type": "code",
   "execution_count": 27,
   "metadata": {},
   "outputs": [],
   "source": []
  },
  {
   "cell_type": "code",
   "execution_count": null,
   "metadata": {},
   "outputs": [],
   "source": []
  }
 ],
 "metadata": {
  "kernelspec": {
   "display_name": "Python 3",
   "language": "python",
   "name": "python3"
  },
  "language_info": {
   "codemirror_mode": {
    "name": "ipython",
    "version": 3
   },
   "file_extension": ".py",
   "mimetype": "text/x-python",
   "name": "python",
   "nbconvert_exporter": "python",
   "pygments_lexer": "ipython3",
   "version": "3.7.4"
  }
 },
 "nbformat": 4,
 "nbformat_minor": 2
}
